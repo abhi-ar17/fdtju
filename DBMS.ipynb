{
  "nbformat": 4,
  "nbformat_minor": 0,
  "metadata": {
    "colab": {
      "provenance": [],
      "authorship_tag": "ABX9TyNK9bvIpxKD+Ax5zLfPVqpy",
      "include_colab_link": true
    },
    "kernelspec": {
      "name": "python3",
      "display_name": "Python 3"
    },
    "language_info": {
      "name": "python"
    }
  },
  "cells": [
    {
      "cell_type": "markdown",
      "metadata": {
        "id": "view-in-github",
        "colab_type": "text"
      },
      "source": [
        "<a href=\"https://colab.research.google.com/github/abhi-ar17/fdtju/blob/master/DBMS.ipynb\" target=\"_parent\"><img src=\"https://colab.research.google.com/assets/colab-badge.svg\" alt=\"Open In Colab\"/></a>"
      ]
    },
    {
      "cell_type": "code",
      "execution_count": null,
      "metadata": {
        "colab": {
          "base_uri": "https://localhost:8080/"
        },
        "id": "E89Ap0HMTaDh",
        "outputId": "afcc6b47-395b-480e-97b0-65dddb388eb3"
      },
      "outputs": [
        {
          "output_type": "stream",
          "name": "stdout",
          "text": [
            "Looking in indexes: https://pypi.org/simple, https://us-python.pkg.dev/colab-wheels/public/simple/\n",
            "Requirement already satisfied: Django in /usr/local/lib/python3.8/dist-packages (4.1.7)\n",
            "Requirement already satisfied: backports.zoneinfo in /usr/local/lib/python3.8/dist-packages (from Django) (0.2.1)\n",
            "Requirement already satisfied: sqlparse>=0.2.2 in /usr/local/lib/python3.8/dist-packages (from Django) (0.2.4)\n",
            "Requirement already satisfied: asgiref<4,>=3.5.2 in /usr/local/lib/python3.8/dist-packages (from Django) (3.6.0)\n"
          ]
        }
      ],
      "source": [
        "pip install Django\n"
      ]
    },
    {
      "cell_type": "code",
      "source": [
        "pip install djongo\n"
      ],
      "metadata": {
        "id": "MhGxEILorN0l",
        "colab": {
          "base_uri": "https://localhost:8080/"
        },
        "outputId": "fd62fd10-d38c-4fdb-9f72-37aad6cc9e60"
      },
      "execution_count": null,
      "outputs": [
        {
          "output_type": "stream",
          "name": "stdout",
          "text": [
            "Looking in indexes: https://pypi.org/simple, https://us-python.pkg.dev/colab-wheels/public/simple/\n",
            "Requirement already satisfied: djongo in /usr/local/lib/python3.8/dist-packages (1.3.6)\n",
            "Requirement already satisfied: sqlparse==0.2.4 in /usr/local/lib/python3.8/dist-packages (from djongo) (0.2.4)\n",
            "Requirement already satisfied: django>=2.1 in /usr/local/lib/python3.8/dist-packages (from djongo) (4.1.7)\n",
            "Requirement already satisfied: pymongo>=3.2.0 in /usr/local/lib/python3.8/dist-packages (from djongo) (4.3.3)\n",
            "Requirement already satisfied: backports.zoneinfo in /usr/local/lib/python3.8/dist-packages (from django>=2.1->djongo) (0.2.1)\n",
            "Requirement already satisfied: asgiref<4,>=3.5.2 in /usr/local/lib/python3.8/dist-packages (from django>=2.1->djongo) (3.6.0)\n",
            "Requirement already satisfied: dnspython<3.0.0,>=1.16.0 in /usr/local/lib/python3.8/dist-packages (from pymongo>=3.2.0->djongo) (2.3.0)\n"
          ]
        }
      ]
    },
    {
      "cell_type": "code",
      "source": [
        "pip install pymongo"
      ],
      "metadata": {
        "colab": {
          "base_uri": "https://localhost:8080/"
        },
        "id": "ycTqkEG7Dr6-",
        "outputId": "ce1b7f4b-eeb1-421b-c3d6-e4aeeb308279"
      },
      "execution_count": null,
      "outputs": [
        {
          "output_type": "stream",
          "name": "stdout",
          "text": [
            "Looking in indexes: https://pypi.org/simple, https://us-python.pkg.dev/colab-wheels/public/simple/\n",
            "Requirement already satisfied: pymongo in /usr/local/lib/python3.8/dist-packages (4.3.3)\n",
            "Requirement already satisfied: dnspython<3.0.0,>=1.16.0 in /usr/local/lib/python3.8/dist-packages (from pymongo) (2.3.0)\n"
          ]
        }
      ]
    },
    {
      "cell_type": "code",
      "source": [
        "!wget https://bin.equinox.io/c/4VmDzA7iaHb/ngrok-stable-linux-amd64.zip\n",
        "!unzip ngrok-stable-linux-amd64.zip"
      ],
      "metadata": {
        "colab": {
          "base_uri": "https://localhost:8080/"
        },
        "id": "a2pau9LBJMzt",
        "outputId": "1990e3e4-3beb-4c1d-963a-1453b9d3e9f1"
      },
      "execution_count": null,
      "outputs": [
        {
          "output_type": "stream",
          "name": "stdout",
          "text": [
            "--2023-02-26 19:28:58--  https://bin.equinox.io/c/4VmDzA7iaHb/ngrok-stable-linux-amd64.zip\n",
            "Resolving bin.equinox.io (bin.equinox.io)... 52.202.168.65, 18.205.222.128, 54.161.241.46, ...\n",
            "Connecting to bin.equinox.io (bin.equinox.io)|52.202.168.65|:443... connected.\n",
            "HTTP request sent, awaiting response... 200 OK\n",
            "Length: 13921656 (13M) [application/octet-stream]\n",
            "Saving to: ‘ngrok-stable-linux-amd64.zip.3’\n",
            "\n",
            "ngrok-stable-linux- 100%[===================>]  13.28M  3.39MB/s    in 4.9s    \n",
            "\n",
            "2023-02-26 19:29:04 (2.70 MB/s) - ‘ngrok-stable-linux-amd64.zip.3’ saved [13921656/13921656]\n",
            "\n",
            "Archive:  ngrok-stable-linux-amd64.zip\n",
            "replace ngrok? [y]es, [n]o, [A]ll, [N]one, [r]ename: y\n",
            "  inflating: ngrok                   \n"
          ]
        }
      ]
    },
    {
      "cell_type": "code",
      "source": [
        "!./ngrok authtoken 2MEzmBMheTKErpD1YMYY5nybALk_52hzkR9ufnSPj9PABqDtc"
      ],
      "metadata": {
        "colab": {
          "base_uri": "https://localhost:8080/"
        },
        "id": "uECENs-kJXX8",
        "outputId": "20716074-f4d6-453d-e81a-c2d81e4a9d4d"
      },
      "execution_count": null,
      "outputs": [
        {
          "output_type": "stream",
          "name": "stdout",
          "text": [
            "Authtoken saved to configuration file: /root/.ngrok2/ngrok.yml\n"
          ]
        }
      ]
    },
    {
      "cell_type": "code",
      "source": [
        "!pip install pyngrok\n",
        "from pyngrok import ngrok\n",
        "\n",
        "# Start ngrok tunnel\n",
        "public_url = ngrok.connect(port=80,http_tunnel=False)\n",
        "print(public_url)"
      ],
      "metadata": {
        "colab": {
          "base_uri": "https://localhost:8080/"
        },
        "id": "q5W2U5CXBPmT",
        "outputId": "c3a9d51e-4689-4a36-987c-044762d8fece"
      },
      "execution_count": null,
      "outputs": [
        {
          "output_type": "stream",
          "name": "stdout",
          "text": [
            "Looking in indexes: https://pypi.org/simple, https://us-python.pkg.dev/colab-wheels/public/simple/\n",
            "Requirement already satisfied: pyngrok in /usr/local/lib/python3.8/dist-packages (5.2.1)\n",
            "Requirement already satisfied: PyYAML in /usr/local/lib/python3.8/dist-packages (from pyngrok) (6.0)\n",
            "NgrokTunnel: \"http://e194-35-203-159-117.ngrok.io\" -> \"http://localhost:80\"\n"
          ]
        }
      ]
    },
    {
      "cell_type": "code",
      "source": [
        "!cd employee_database && python manage.py runserver 127.0.0.1:80"
      ],
      "metadata": {
        "colab": {
          "base_uri": "https://localhost:8080/"
        },
        "id": "1QkU6l2IDcWy",
        "outputId": "263f0b00-b2c7-47c7-85ff-2c1bfd0867fe"
      },
      "execution_count": null,
      "outputs": [
        {
          "output_type": "stream",
          "name": "stdout",
          "text": [
            "Watching for file changes with StatReloader\n",
            "Performing system checks...\n",
            "\n",
            "System check identified no issues (0 silenced).\n",
            "February 26, 2023 - 20:26:09\n",
            "Django version 4.1.7, using settings 'employee_database.settings'\n",
            "Starting development server at http://127.0.0.1:80/\n",
            "Quit the server with CONTROL-C.\n",
            "Not Found: /\n",
            "[26/Feb/2023 20:26:14] \u001b[33m\"GET / HTTP/1.1\" 404 2210\u001b[0m\n",
            "Not Found: /favicon.ico\n",
            "[26/Feb/2023 20:26:15] \u001b[33m\"GET /favicon.ico HTTP/1.1\" 404 2261\u001b[0m\n",
            "[26/Feb/2023 20:26:21] \u001b[32m\"GET /employee HTTP/1.1\" 301 0\u001b[0m\n",
            "Internal Server Error: /employee/\n",
            "Traceback (most recent call last):\n",
            "  File \"/usr/local/lib/python3.8/dist-packages/django/core/handlers/exception.py\", line 56, in inner\n",
            "    response = get_response(request)\n",
            "  File \"/usr/local/lib/python3.8/dist-packages/django/core/handlers/base.py\", line 197, in _get_response\n",
            "    response = wrapped_callback(request, *callback_args, **callback_kwargs)\n",
            "  File \"/content/employee_database/PersonalData/views.py\", line 8, in employee\n",
            "    myobject = Employee.objects.create(firstName='Gouthami', lastName='P R',gender='Female',dateOfBirth='11/05/1995')\n",
            "  File \"/usr/local/lib/python3.8/dist-packages/django/db/models/manager.py\", line 85, in manager_method\n",
            "    return getattr(self.get_queryset(), name)(*args, **kwargs)\n",
            "  File \"/usr/local/lib/python3.8/dist-packages/django/db/models/query.py\", line 669, in create\n",
            "    obj = self.model(**kwargs)\n",
            "  File \"/usr/local/lib/python3.8/dist-packages/django/db/models/base.py\", line 565, in __init__\n",
            "    raise TypeError(\n",
            "TypeError: Employee() got unexpected keyword arguments: 'dateOfBirth'\n",
            "[26/Feb/2023 20:26:22] \u001b[35;1m\"GET /employee/ HTTP/1.1\" 500 83919\u001b[0m\n",
            "Not Found: /favicon.ico\n",
            "[26/Feb/2023 20:26:23] \u001b[33m\"GET /favicon.ico HTTP/1.1\" 404 2261\u001b[0m\n",
            "/content/employee_database/PersonalData/views.py changed, reloading.\n",
            "Watching for file changes with StatReloader\n",
            "Performing system checks...\n",
            "\n",
            "System check identified no issues (0 silenced).\n",
            "February 26, 2023 - 20:27:09\n",
            "Django version 4.1.7, using settings 'employee_database.settings'\n",
            "Starting development server at http://127.0.0.1:80/\n",
            "Quit the server with CONTROL-C.\n",
            "/content/employee_database/PersonalData/views.py changed, reloading.\n",
            "Watching for file changes with StatReloader\n",
            "Performing system checks...\n",
            "\n",
            "System check identified no issues (0 silenced).\n",
            "February 26, 2023 - 20:27:10\n",
            "Django version 4.1.7, using settings 'employee_database.settings'\n",
            "Starting development server at http://127.0.0.1:80/\n",
            "Quit the server with CONTROL-C.\n",
            "[26/Feb/2023 20:27:15] \u001b[m\"GET /employee/ HTTP/1.1\" 200 36\u001b[0m\n"
          ]
        }
      ]
    },
    {
      "cell_type": "code",
      "source": [
        "!cd employee_database && python manage.py migrate\n"
      ],
      "metadata": {
        "colab": {
          "base_uri": "https://localhost:8080/"
        },
        "id": "TmPam6uLXrVY",
        "outputId": "fcf1fa7c-08bf-4c40-fd9a-2045741623de"
      },
      "execution_count": null,
      "outputs": [
        {
          "output_type": "stream",
          "name": "stdout",
          "text": [
            "\u001b[36;1mOperations to perform:\u001b[0m\n",
            "\u001b[1m  Apply all migrations: \u001b[0madmin, auth, contenttypes, sessions\n",
            "\u001b[36;1mRunning migrations:\u001b[0m\n",
            "  Applying contenttypes.0001_initial...\u001b[32;1m OK\u001b[0m\n",
            "  Applying auth.0001_initial...\u001b[32;1m OK\u001b[0m\n",
            "  Applying admin.0001_initial...\u001b[32;1m OK\u001b[0m\n",
            "  Applying admin.0002_logentry_remove_auto_add...\u001b[32;1m OK\u001b[0m\n",
            "  Applying admin.0003_logentry_add_action_flag_choices...\u001b[32;1m OK\u001b[0m\n",
            "  Applying contenttypes.0002_remove_content_type_name...\u001b[32;1m OK\u001b[0m\n",
            "  Applying auth.0002_alter_permission_name_max_length...\u001b[32;1m OK\u001b[0m\n",
            "  Applying auth.0003_alter_user_email_max_length...\u001b[32;1m OK\u001b[0m\n",
            "  Applying auth.0004_alter_user_username_opts...\u001b[32;1m OK\u001b[0m\n",
            "  Applying auth.0005_alter_user_last_login_null...\u001b[32;1m OK\u001b[0m\n",
            "  Applying auth.0006_require_contenttypes_0002...\u001b[32;1m OK\u001b[0m\n",
            "  Applying auth.0007_alter_validators_add_error_messages...\u001b[32;1m OK\u001b[0m\n",
            "  Applying auth.0008_alter_user_username_max_length...\u001b[32;1m OK\u001b[0m\n",
            "  Applying auth.0009_alter_user_last_name_max_length...\u001b[32;1m OK\u001b[0m\n",
            "  Applying auth.0010_alter_group_name_max_length...\u001b[32;1m OK\u001b[0m\n",
            "  Applying auth.0011_update_proxy_permissions...\u001b[32;1m OK\u001b[0m\n",
            "  Applying auth.0012_alter_user_first_name_max_length...\u001b[32;1m OK\u001b[0m\n",
            "  Applying sessions.0001_initial...\u001b[32;1m OK\u001b[0m\n"
          ]
        }
      ]
    },
    {
      "cell_type": "code",
      "source": [
        "!cd employee_database && python manage.py makemigrations PersonalData\n"
      ],
      "metadata": {
        "colab": {
          "base_uri": "https://localhost:8080/"
        },
        "id": "4_URqI8uXya6",
        "outputId": "b529e339-1307-441f-a9d5-173d0c2fb19d"
      },
      "execution_count": null,
      "outputs": [
        {
          "output_type": "stream",
          "name": "stdout",
          "text": [
            "\u001b[36;1mMigrations for 'PersonalData':\u001b[0m\n",
            "  \u001b[1mPersonalData/migrations/0001_initial.py\u001b[0m\n",
            "    - Create model Employee\n"
          ]
        }
      ]
    },
    {
      "cell_type": "code",
      "source": [
        "!cd employee_database && python manage.py migrate\n"
      ],
      "metadata": {
        "colab": {
          "base_uri": "https://localhost:8080/"
        },
        "id": "vy1imaX9YSck",
        "outputId": "5a162257-b49f-47d7-e714-d6ae73c32549"
      },
      "execution_count": null,
      "outputs": [
        {
          "output_type": "stream",
          "name": "stdout",
          "text": [
            "\u001b[36;1mOperations to perform:\u001b[0m\n",
            "\u001b[1m  Apply all migrations: \u001b[0mPersonalData, admin, auth, contenttypes, sessions\n",
            "\u001b[36;1mRunning migrations:\u001b[0m\n",
            "  Applying PersonalData.0001_initial...\u001b[32;1m OK\u001b[0m\n"
          ]
        }
      ]
    }
  ]
}